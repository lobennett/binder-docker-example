{
 "cells": [
  {
   "cell_type": "code",
   "execution_count": null,
   "id": "189cec1b",
   "metadata": {},
   "outputs": [],
   "source": [
    "# Import the necessary functions from nilearn\n",
    "from nilearn import datasets\n",
    "from nilearn import plotting\n",
    "\n",
    "# Fetch a standard anatomical template (MNI152)\n",
    "print(\"Fetching MNI152 template...\")\n",
    "anat_img = datasets.load_mni152_template()\n",
    "print(\"Template fetched successfully.\")\n",
    "\n",
    "# Plot the anatomical image\n",
    "print(\"Plotting the brain template...\")\n",
    "plotting.plot_anat(anat_img, title=\"MNI152 Template - Nilearn Installation Test\")\n",
    "\n",
    "# Display the plot\n",
    "plotting.show()\n",
    "print(\"\\nIf you see a plot of a brain, nilearn is installed and working correctly!\")"
   ]
  }
 ],
 "metadata": {
  "language_info": {
   "name": "python"
  }
 },
 "nbformat": 4,
 "nbformat_minor": 5
}
